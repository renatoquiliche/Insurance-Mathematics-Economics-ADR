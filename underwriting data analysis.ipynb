{
 "cells": [
  {
   "cell_type": "code",
   "execution_count": 1,
   "id": "cad9c2e9",
   "metadata": {},
   "outputs": [],
   "source": [
    "import pandas as pd\n",
    "import seaborn as sns\n",
    "\n",
    "#from sklearn.neighbors import DistanceMetric\n",
    "import numpy as np\n",
    "from sklearn.decomposition import PCA\n",
    "from sklearn.cluster import KMeans\n",
    "import matplotlib.pyplot as plt\n",
    "from sklearn.preprocessing import RobustScaler\n",
    "from sklearn.preprocessing import StandardScaler\n",
    "from sklearn.preprocessing import MinMaxScaler\n",
    "#import os"
   ]
  },
  {
   "cell_type": "code",
   "execution_count": 2,
   "id": "54b74fcc",
   "metadata": {},
   "outputs": [],
   "source": [
    "#os.chdir(r\"G:\\My Drive\\PUC-Rio\\Trabalho final ADR - Bruno Fanzeres\\Script\") "
   ]
  },
  {
   "cell_type": "code",
   "execution_count": 3,
   "id": "cb35e9d7",
   "metadata": {},
   "outputs": [],
   "source": [
    "data_insurance = pd.read_csv(r\"G:\\My Drive\\PUC-Rio\\PUC-Rio 2022-1\\Trabalho final ADR - Bruno Fanzeres\\insurance.csv\")"
   ]
  },
  {
   "cell_type": "code",
   "execution_count": 4,
   "id": "fdfcea40",
   "metadata": {},
   "outputs": [
    {
     "data": {
      "text/plain": [
       "age         0\n",
       "sex         0\n",
       "bmi         0\n",
       "children    0\n",
       "smoker      0\n",
       "region      0\n",
       "charges     0\n",
       "dtype: int64"
      ]
     },
     "execution_count": 4,
     "metadata": {},
     "output_type": "execute_result"
    }
   ],
   "source": [
    "#Missing values computation\n",
    "data_insurance.isnull().sum()\n",
    "\n",
    "#Data nao tem missing values"
   ]
  },
  {
   "cell_type": "code",
   "execution_count": 5,
   "id": "cd654c96",
   "metadata": {},
   "outputs": [
    {
     "data": {
      "text/plain": [
       "['age', 'sex', 'bmi', 'children', 'smoker', 'region', 'charges']"
      ]
     },
     "execution_count": 5,
     "metadata": {},
     "output_type": "execute_result"
    }
   ],
   "source": [
    "data_insurance.columns.values.tolist()"
   ]
  },
  {
   "cell_type": "code",
   "execution_count": 6,
   "id": "0d2c8fc1",
   "metadata": {},
   "outputs": [
    {
     "name": "stdout",
     "output_type": "stream",
     "text": [
      "<class 'pandas.core.frame.DataFrame'>\n",
      "RangeIndex: 1338 entries, 0 to 1337\n",
      "Data columns (total 7 columns):\n",
      " #   Column    Non-Null Count  Dtype  \n",
      "---  ------    --------------  -----  \n",
      " 0   age       1338 non-null   int64  \n",
      " 1   sex       1338 non-null   object \n",
      " 2   bmi       1338 non-null   float64\n",
      " 3   children  1338 non-null   int64  \n",
      " 4   smoker    1338 non-null   object \n",
      " 5   region    1338 non-null   object \n",
      " 6   charges   1338 non-null   float64\n",
      "dtypes: float64(2), int64(2), object(3)\n",
      "memory usage: 73.3+ KB\n"
     ]
    }
   ],
   "source": [
    "data_insurance.info()"
   ]
  },
  {
   "cell_type": "code",
   "execution_count": 7,
   "id": "c0f414a6",
   "metadata": {},
   "outputs": [],
   "source": [
    "#data_insurance.describe()\n",
    "\n",
    "categorical = pd.get_dummies(data_insurance[[\"sex\",\"smoker\", \"region\"]])\n",
    "\n",
    "final_data = pd.concat([data_insurance[[\"age\",\"bmi\",\"children\", \"charges\"]], categorical], axis =1)"
   ]
  },
  {
   "cell_type": "code",
   "execution_count": 8,
   "id": "39a089a5",
   "metadata": {},
   "outputs": [
    {
     "data": {
      "text/html": [
       "<div>\n",
       "<style scoped>\n",
       "    .dataframe tbody tr th:only-of-type {\n",
       "        vertical-align: middle;\n",
       "    }\n",
       "\n",
       "    .dataframe tbody tr th {\n",
       "        vertical-align: top;\n",
       "    }\n",
       "\n",
       "    .dataframe thead th {\n",
       "        text-align: right;\n",
       "    }\n",
       "</style>\n",
       "<table border=\"1\" class=\"dataframe\">\n",
       "  <thead>\n",
       "    <tr style=\"text-align: right;\">\n",
       "      <th></th>\n",
       "      <th>age</th>\n",
       "      <th>bmi</th>\n",
       "      <th>children</th>\n",
       "      <th>charges</th>\n",
       "      <th>sex_female</th>\n",
       "      <th>sex_male</th>\n",
       "      <th>smoker_no</th>\n",
       "      <th>smoker_yes</th>\n",
       "      <th>region_northeast</th>\n",
       "      <th>region_northwest</th>\n",
       "      <th>region_southeast</th>\n",
       "      <th>region_southwest</th>\n",
       "    </tr>\n",
       "  </thead>\n",
       "  <tbody>\n",
       "    <tr>\n",
       "      <th>count</th>\n",
       "      <td>1338.000000</td>\n",
       "      <td>1338.000000</td>\n",
       "      <td>1338.000000</td>\n",
       "      <td>1338.000000</td>\n",
       "      <td>1338.000000</td>\n",
       "      <td>1338.000000</td>\n",
       "      <td>1338.000000</td>\n",
       "      <td>1338.000000</td>\n",
       "      <td>1338.000000</td>\n",
       "      <td>1338.000000</td>\n",
       "      <td>1338.000000</td>\n",
       "      <td>1338.000000</td>\n",
       "    </tr>\n",
       "    <tr>\n",
       "      <th>mean</th>\n",
       "      <td>0.008626</td>\n",
       "      <td>0.031366</td>\n",
       "      <td>0.047459</td>\n",
       "      <td>0.326766</td>\n",
       "      <td>0.494768</td>\n",
       "      <td>-0.494768</td>\n",
       "      <td>-0.204783</td>\n",
       "      <td>0.204783</td>\n",
       "      <td>0.242152</td>\n",
       "      <td>0.242900</td>\n",
       "      <td>0.272048</td>\n",
       "      <td>0.242900</td>\n",
       "    </tr>\n",
       "    <tr>\n",
       "      <th>std</th>\n",
       "      <td>0.585415</td>\n",
       "      <td>0.726191</td>\n",
       "      <td>0.602746</td>\n",
       "      <td>1.017680</td>\n",
       "      <td>0.500160</td>\n",
       "      <td>0.500160</td>\n",
       "      <td>0.403694</td>\n",
       "      <td>0.403694</td>\n",
       "      <td>0.428546</td>\n",
       "      <td>0.428995</td>\n",
       "      <td>0.445181</td>\n",
       "      <td>0.428995</td>\n",
       "    </tr>\n",
       "    <tr>\n",
       "      <th>min</th>\n",
       "      <td>-0.875000</td>\n",
       "      <td>-1.719559</td>\n",
       "      <td>-0.500000</td>\n",
       "      <td>-0.694153</td>\n",
       "      <td>0.000000</td>\n",
       "      <td>-1.000000</td>\n",
       "      <td>-1.000000</td>\n",
       "      <td>0.000000</td>\n",
       "      <td>0.000000</td>\n",
       "      <td>0.000000</td>\n",
       "      <td>0.000000</td>\n",
       "      <td>0.000000</td>\n",
       "    </tr>\n",
       "    <tr>\n",
       "      <th>25%</th>\n",
       "      <td>-0.500000</td>\n",
       "      <td>-0.488687</td>\n",
       "      <td>-0.500000</td>\n",
       "      <td>-0.390075</td>\n",
       "      <td>0.000000</td>\n",
       "      <td>-1.000000</td>\n",
       "      <td>0.000000</td>\n",
       "      <td>0.000000</td>\n",
       "      <td>0.000000</td>\n",
       "      <td>0.000000</td>\n",
       "      <td>0.000000</td>\n",
       "      <td>0.000000</td>\n",
       "    </tr>\n",
       "    <tr>\n",
       "      <th>50%</th>\n",
       "      <td>0.000000</td>\n",
       "      <td>0.000000</td>\n",
       "      <td>0.000000</td>\n",
       "      <td>0.000000</td>\n",
       "      <td>0.000000</td>\n",
       "      <td>0.000000</td>\n",
       "      <td>0.000000</td>\n",
       "      <td>0.000000</td>\n",
       "      <td>0.000000</td>\n",
       "      <td>0.000000</td>\n",
       "      <td>0.000000</td>\n",
       "      <td>0.000000</td>\n",
       "    </tr>\n",
       "    <tr>\n",
       "      <th>75%</th>\n",
       "      <td>0.500000</td>\n",
       "      <td>0.511313</td>\n",
       "      <td>0.500000</td>\n",
       "      <td>0.609925</td>\n",
       "      <td>1.000000</td>\n",
       "      <td>0.000000</td>\n",
       "      <td>0.000000</td>\n",
       "      <td>0.000000</td>\n",
       "      <td>0.000000</td>\n",
       "      <td>0.000000</td>\n",
       "      <td>1.000000</td>\n",
       "      <td>0.000000</td>\n",
       "    </tr>\n",
       "    <tr>\n",
       "      <th>max</th>\n",
       "      <td>1.041667</td>\n",
       "      <td>2.706758</td>\n",
       "      <td>2.000000</td>\n",
       "      <td>4.570597</td>\n",
       "      <td>1.000000</td>\n",
       "      <td>0.000000</td>\n",
       "      <td>0.000000</td>\n",
       "      <td>1.000000</td>\n",
       "      <td>1.000000</td>\n",
       "      <td>1.000000</td>\n",
       "      <td>1.000000</td>\n",
       "      <td>1.000000</td>\n",
       "    </tr>\n",
       "  </tbody>\n",
       "</table>\n",
       "</div>"
      ],
      "text/plain": [
       "               age          bmi     children      charges   sex_female  \\\n",
       "count  1338.000000  1338.000000  1338.000000  1338.000000  1338.000000   \n",
       "mean      0.008626     0.031366     0.047459     0.326766     0.494768   \n",
       "std       0.585415     0.726191     0.602746     1.017680     0.500160   \n",
       "min      -0.875000    -1.719559    -0.500000    -0.694153     0.000000   \n",
       "25%      -0.500000    -0.488687    -0.500000    -0.390075     0.000000   \n",
       "50%       0.000000     0.000000     0.000000     0.000000     0.000000   \n",
       "75%       0.500000     0.511313     0.500000     0.609925     1.000000   \n",
       "max       1.041667     2.706758     2.000000     4.570597     1.000000   \n",
       "\n",
       "          sex_male    smoker_no   smoker_yes  region_northeast  \\\n",
       "count  1338.000000  1338.000000  1338.000000       1338.000000   \n",
       "mean     -0.494768    -0.204783     0.204783          0.242152   \n",
       "std       0.500160     0.403694     0.403694          0.428546   \n",
       "min      -1.000000    -1.000000     0.000000          0.000000   \n",
       "25%      -1.000000     0.000000     0.000000          0.000000   \n",
       "50%       0.000000     0.000000     0.000000          0.000000   \n",
       "75%       0.000000     0.000000     0.000000          0.000000   \n",
       "max       0.000000     0.000000     1.000000          1.000000   \n",
       "\n",
       "       region_northwest  region_southeast  region_southwest  \n",
       "count       1338.000000       1338.000000       1338.000000  \n",
       "mean           0.242900          0.272048          0.242900  \n",
       "std            0.428995          0.445181          0.428995  \n",
       "min            0.000000          0.000000          0.000000  \n",
       "25%            0.000000          0.000000          0.000000  \n",
       "50%            0.000000          0.000000          0.000000  \n",
       "75%            0.000000          1.000000          0.000000  \n",
       "max            1.000000          1.000000          1.000000  "
      ]
     },
     "execution_count": 8,
     "metadata": {},
     "output_type": "execute_result"
    }
   ],
   "source": [
    "scaler = RobustScaler()\n",
    "\n",
    "final_data_scaled = pd.DataFrame(scaler.fit_transform(final_data), columns = final_data.columns.values.tolist())\n",
    "\n",
    "final_data_scaled.describe()\n",
    "\n",
    "#final_data[\"charges\"] = np.log(final_data[\"charges\"])"
   ]
  },
  {
   "cell_type": "code",
   "execution_count": 9,
   "id": "ad44f6c2",
   "metadata": {},
   "outputs": [
    {
     "name": "stdout",
     "output_type": "stream",
     "text": [
      "[0.34308876 0.1432343 ]\n",
      "Total Varianza Explicada:\n",
      "48.6323054565207\n"
     ]
    }
   ],
   "source": [
    "#bins = [18, 30, 40, 50, 60]\n",
    "#labels = ['18 to 30', '30 to 40', 'teen', 'adult', 'senior citizen']\n",
    "\n",
    "pca = PCA(n_components=2)\n",
    "pca.fit(final_data_scaled)\n",
    "\n",
    "print(pca.explained_variance_ratio_)\n",
    "\n",
    "components = pd.DataFrame(pca.transform(final_data_scaled), columns=['PC1','PC2'])\n",
    "\n",
    "print(\"Total Varianza Explicada:\")\n",
    "print(pca.explained_variance_ratio_.sum()*100)"
   ]
  },
  {
   "cell_type": "markdown",
   "id": "fbcacb36",
   "metadata": {},
   "source": [
    "# KMeans Univariado"
   ]
  },
  {
   "cell_type": "code",
   "execution_count": 10,
   "id": "dbb3bab5",
   "metadata": {},
   "outputs": [],
   "source": [
    "plt.style.use('bmh')"
   ]
  },
  {
   "cell_type": "code",
   "execution_count": 11,
   "id": "a37af902",
   "metadata": {},
   "outputs": [],
   "source": [
    "wcss=[]\n",
    "\n",
    "for i in range(1,11):\n",
    "    kmeans = KMeans(n_clusters= i, init='k-means++', random_state=0)\n",
    "    kmeans.fit(final_data_scaled[[\"charges\"]])\n",
    "    wcss.append(kmeans.inertia_)"
   ]
  },
  {
   "cell_type": "code",
   "execution_count": 12,
   "id": "068f1b80",
   "metadata": {},
   "outputs": [
    {
     "data": {
      "image/png": "[encoded data removed]",
      "text/plain": [
       "<Figure size 432x288 with 1 Axes>"
      ]
     },
     "metadata": {
      "needs_background": "light"
     },
     "output_type": "display_data"
    }
   ],
   "source": [
    "a = plt.plot(range(1,11), wcss, color='b')\n",
    "plt.title('The Elbow Method')\n",
    "plt.xlabel('No of clusters')\n",
    "plt.ylabel('WCSS')\n",
    "plt.axvline(4, color='r') # vertical\n",
    "#plt.savefig(path_fig+\"\\Elbowmethod.png\")\n",
    "plt.show()"
   ]
  },
  {
   "cell_type": "code",
   "execution_count": 13,
   "id": "4d461172",
   "metadata": {},
   "outputs": [],
   "source": [
    "#Model Build\n",
    "kmeansmodel = KMeans(n_clusters= 4, init='k-means++', random_state=0)\n",
    "y_kmeans= kmeansmodel.fit_predict(final_data_scaled[[\"charges\"]])"
   ]
  },
  {
   "cell_type": "code",
   "execution_count": 14,
   "id": "99556bbe",
   "metadata": {},
   "outputs": [
    {
     "data": {
      "image/png": "[encoded data removed]",
      "text/plain": [
       "<Figure size 432x288 with 1 Axes>"
      ]
     },
     "metadata": {
      "needs_background": "light"
     },
     "output_type": "display_data"
    }
   ],
   "source": [
    "#Visualizing all the clusters \n",
    "#components = components.values\n",
    "\n",
    "plt.scatter(components.values[y_kmeans == 0, 0], components.values[y_kmeans == 0, 1], s = 10, c = 'red', label = 'Cluster 0')\n",
    "plt.scatter(components.values[y_kmeans == 1, 0], components.values[y_kmeans == 1, 1], s = 10, c = 'blue', label = 'Cluster 1')\n",
    "plt.scatter(components.values[y_kmeans == 2, 0], components.values[y_kmeans == 2, 1], s = 10, c = 'green', label = 'Cluster 2')\n",
    "plt.scatter(components.values[y_kmeans == 3, 0], components.values[y_kmeans == 3, 1], s = 10, c = 'orange', label = 'Cluster 3')\n",
    "#las coordenadas del centro son unidimensionales\n",
    "#plt.scatter(kmeansmodel.cluster_centers_[:, 0], kmeansmodel.cluster_centers_[:, 1], s = 30, c = 'yellow', label = 'Centroids')\n",
    "plt.title('Clusters of insured people')\n",
    "plt.xlabel('PC1')\n",
    "plt.ylabel('PC2')\n",
    "plt.legend()\n",
    "#plt.savefig(path_fig+\"\\Clustering general.png\")\n",
    "plt.show()"
   ]
  },
  {
   "cell_type": "code",
   "execution_count": 15,
   "id": "b4bd6b82",
   "metadata": {
    "scrolled": true
   },
   "outputs": [
    {
     "data": {
      "text/html": [
       "<div>\n",
       "<style scoped>\n",
       "    .dataframe tbody tr th:only-of-type {\n",
       "        vertical-align: middle;\n",
       "    }\n",
       "\n",
       "    .dataframe tbody tr th {\n",
       "        vertical-align: top;\n",
       "    }\n",
       "\n",
       "    .dataframe thead th {\n",
       "        text-align: right;\n",
       "    }\n",
       "</style>\n",
       "<table border=\"1\" class=\"dataframe\">\n",
       "  <thead>\n",
       "    <tr style=\"text-align: right;\">\n",
       "      <th></th>\n",
       "      <th>age</th>\n",
       "      <th>bmi</th>\n",
       "      <th>children</th>\n",
       "      <th>charges</th>\n",
       "      <th>sex_female</th>\n",
       "      <th>sex_male</th>\n",
       "      <th>smoker_no</th>\n",
       "      <th>smoker_yes</th>\n",
       "      <th>region_northeast</th>\n",
       "      <th>region_northwest</th>\n",
       "      <th>region_southeast</th>\n",
       "      <th>region_southwest</th>\n",
       "      <th>cluster</th>\n",
       "    </tr>\n",
       "  </thead>\n",
       "  <tbody>\n",
       "    <tr>\n",
       "      <th>0</th>\n",
       "      <td>19</td>\n",
       "      <td>27.900</td>\n",
       "      <td>0</td>\n",
       "      <td>16884.92400</td>\n",
       "      <td>1</td>\n",
       "      <td>0</td>\n",
       "      <td>0</td>\n",
       "      <td>1</td>\n",
       "      <td>0</td>\n",
       "      <td>0</td>\n",
       "      <td>0</td>\n",
       "      <td>1</td>\n",
       "      <td>1</td>\n",
       "    </tr>\n",
       "    <tr>\n",
       "      <th>1</th>\n",
       "      <td>18</td>\n",
       "      <td>33.770</td>\n",
       "      <td>1</td>\n",
       "      <td>1725.55230</td>\n",
       "      <td>0</td>\n",
       "      <td>1</td>\n",
       "      <td>1</td>\n",
       "      <td>0</td>\n",
       "      <td>0</td>\n",
       "      <td>0</td>\n",
       "      <td>1</td>\n",
       "      <td>0</td>\n",
       "      <td>3</td>\n",
       "    </tr>\n",
       "    <tr>\n",
       "      <th>2</th>\n",
       "      <td>28</td>\n",
       "      <td>33.000</td>\n",
       "      <td>3</td>\n",
       "      <td>4449.46200</td>\n",
       "      <td>0</td>\n",
       "      <td>1</td>\n",
       "      <td>1</td>\n",
       "      <td>0</td>\n",
       "      <td>0</td>\n",
       "      <td>0</td>\n",
       "      <td>1</td>\n",
       "      <td>0</td>\n",
       "      <td>3</td>\n",
       "    </tr>\n",
       "    <tr>\n",
       "      <th>3</th>\n",
       "      <td>33</td>\n",
       "      <td>22.705</td>\n",
       "      <td>0</td>\n",
       "      <td>21984.47061</td>\n",
       "      <td>0</td>\n",
       "      <td>1</td>\n",
       "      <td>1</td>\n",
       "      <td>0</td>\n",
       "      <td>0</td>\n",
       "      <td>1</td>\n",
       "      <td>0</td>\n",
       "      <td>0</td>\n",
       "      <td>0</td>\n",
       "    </tr>\n",
       "    <tr>\n",
       "      <th>4</th>\n",
       "      <td>32</td>\n",
       "      <td>28.880</td>\n",
       "      <td>0</td>\n",
       "      <td>3866.85520</td>\n",
       "      <td>0</td>\n",
       "      <td>1</td>\n",
       "      <td>1</td>\n",
       "      <td>0</td>\n",
       "      <td>0</td>\n",
       "      <td>1</td>\n",
       "      <td>0</td>\n",
       "      <td>0</td>\n",
       "      <td>3</td>\n",
       "    </tr>\n",
       "    <tr>\n",
       "      <th>...</th>\n",
       "      <td>...</td>\n",
       "      <td>...</td>\n",
       "      <td>...</td>\n",
       "      <td>...</td>\n",
       "      <td>...</td>\n",
       "      <td>...</td>\n",
       "      <td>...</td>\n",
       "      <td>...</td>\n",
       "      <td>...</td>\n",
       "      <td>...</td>\n",
       "      <td>...</td>\n",
       "      <td>...</td>\n",
       "      <td>...</td>\n",
       "    </tr>\n",
       "    <tr>\n",
       "      <th>1333</th>\n",
       "      <td>50</td>\n",
       "      <td>30.970</td>\n",
       "      <td>3</td>\n",
       "      <td>10600.54830</td>\n",
       "      <td>0</td>\n",
       "      <td>1</td>\n",
       "      <td>1</td>\n",
       "      <td>0</td>\n",
       "      <td>0</td>\n",
       "      <td>1</td>\n",
       "      <td>0</td>\n",
       "      <td>0</td>\n",
       "      <td>1</td>\n",
       "    </tr>\n",
       "    <tr>\n",
       "      <th>1334</th>\n",
       "      <td>18</td>\n",
       "      <td>31.920</td>\n",
       "      <td>0</td>\n",
       "      <td>2205.98080</td>\n",
       "      <td>1</td>\n",
       "      <td>0</td>\n",
       "      <td>1</td>\n",
       "      <td>0</td>\n",
       "      <td>1</td>\n",
       "      <td>0</td>\n",
       "      <td>0</td>\n",
       "      <td>0</td>\n",
       "      <td>3</td>\n",
       "    </tr>\n",
       "    <tr>\n",
       "      <th>1335</th>\n",
       "      <td>18</td>\n",
       "      <td>36.850</td>\n",
       "      <td>0</td>\n",
       "      <td>1629.83350</td>\n",
       "      <td>1</td>\n",
       "      <td>0</td>\n",
       "      <td>1</td>\n",
       "      <td>0</td>\n",
       "      <td>0</td>\n",
       "      <td>0</td>\n",
       "      <td>1</td>\n",
       "      <td>0</td>\n",
       "      <td>3</td>\n",
       "    </tr>\n",
       "    <tr>\n",
       "      <th>1336</th>\n",
       "      <td>21</td>\n",
       "      <td>25.800</td>\n",
       "      <td>0</td>\n",
       "      <td>2007.94500</td>\n",
       "      <td>1</td>\n",
       "      <td>0</td>\n",
       "      <td>1</td>\n",
       "      <td>0</td>\n",
       "      <td>0</td>\n",
       "      <td>0</td>\n",
       "      <td>0</td>\n",
       "      <td>1</td>\n",
       "      <td>3</td>\n",
       "    </tr>\n",
       "    <tr>\n",
       "      <th>1337</th>\n",
       "      <td>61</td>\n",
       "      <td>29.070</td>\n",
       "      <td>0</td>\n",
       "      <td>29141.36030</td>\n",
       "      <td>1</td>\n",
       "      <td>0</td>\n",
       "      <td>0</td>\n",
       "      <td>1</td>\n",
       "      <td>0</td>\n",
       "      <td>1</td>\n",
       "      <td>0</td>\n",
       "      <td>0</td>\n",
       "      <td>0</td>\n",
       "    </tr>\n",
       "  </tbody>\n",
       "</table>\n",
       "<p>1338 rows × 13 columns</p>\n",
       "</div>"
      ],
      "text/plain": [
       "      age     bmi  children      charges  sex_female  sex_male  smoker_no  \\\n",
       "0      19  27.900         0  16884.92400           1         0          0   \n",
       "1      18  33.770         1   1725.55230           0         1          1   \n",
       "2      28  33.000         3   4449.46200           0         1          1   \n",
       "3      33  22.705         0  21984.47061           0         1          1   \n",
       "4      32  28.880         0   3866.85520           0         1          1   \n",
       "...   ...     ...       ...          ...         ...       ...        ...   \n",
       "1333   50  30.970         3  10600.54830           0         1          1   \n",
       "1334   18  31.920         0   2205.98080           1         0          1   \n",
       "1335   18  36.850         0   1629.83350           1         0          1   \n",
       "1336   21  25.800         0   2007.94500           1         0          1   \n",
       "1337   61  29.070         0  29141.36030           1         0          0   \n",
       "\n",
       "      smoker_yes  region_northeast  region_northwest  region_southeast  \\\n",
       "0              1                 0                 0                 0   \n",
       "1              0                 0                 0                 1   \n",
       "2              0                 0                 0                 1   \n",
       "3              0                 0                 1                 0   \n",
       "4              0                 0                 1                 0   \n",
       "...          ...               ...               ...               ...   \n",
       "1333           0                 0                 1                 0   \n",
       "1334           0                 1                 0                 0   \n",
       "1335           0                 0                 0                 1   \n",
       "1336           0                 0                 0                 0   \n",
       "1337           1                 0                 1                 0   \n",
       "\n",
       "      region_southwest  cluster  \n",
       "0                    1        1  \n",
       "1                    0        3  \n",
       "2                    0        3  \n",
       "3                    0        0  \n",
       "4                    0        3  \n",
       "...                ...      ...  \n",
       "1333                 0        1  \n",
       "1334                 0        3  \n",
       "1335                 0        3  \n",
       "1336                 1        3  \n",
       "1337                 0        0  \n",
       "\n",
       "[1338 rows x 13 columns]"
      ]
     },
     "execution_count": 15,
     "metadata": {},
     "output_type": "execute_result"
    }
   ],
   "source": [
    "cluster = pd.Series(y_kmeans, name=\"cluster\")\n",
    "final_descriptive = pd.concat([final_data, cluster], axis=1)\n",
    "final_descriptive"
   ]
  },
  {
   "cell_type": "code",
   "execution_count": 17,
   "id": "a3686379",
   "metadata": {},
   "outputs": [],
   "source": [
    "# Activar para exportar la base con clusters univariados\n",
    "final_descriptive.to_excel(r\"G:\\My Drive\\PUC-Rio\\PUC-Rio 2022-1\\Trabalho final ADR - Bruno Fanzeres\\Script\\Database.xlsx\")\n"
   ]
  },
  {
   "cell_type": "code",
   "execution_count": null,
   "id": "4d1b2a96",
   "metadata": {
    "scrolled": true
   },
   "outputs": [],
   "source": [
    "sns.histplot(data=final_descriptive, x=\"charges\", kde=True, hue=\"cluster\")"
   ]
  },
  {
   "cell_type": "markdown",
   "id": "4f4d79e1",
   "metadata": {},
   "source": [
    "# Implementacion algoritmo KMeans"
   ]
  },
  {
   "cell_type": "code",
   "execution_count": null,
   "id": "c4179522",
   "metadata": {},
   "outputs": [],
   "source": [
    "wcss=[]\n",
    "\n",
    "for i in range(1,11):\n",
    "    kmeans = KMeans(n_clusters= i, init='k-means++', random_state=0)\n",
    "    kmeans.fit(components)\n",
    "    wcss.append(kmeans.inertia_)"
   ]
  },
  {
   "cell_type": "code",
   "execution_count": null,
   "id": "4ceff426",
   "metadata": {},
   "outputs": [],
   "source": [
    "path_fig = r\"G:\\My Drive\\PUC-Rio\\PUC-Rio 2022-1\\Trabalho final ADR - Bruno Fanzeres\\Script\\Graphics\\Data Analytics\""
   ]
  },
  {
   "cell_type": "code",
   "execution_count": null,
   "id": "fa1e5513",
   "metadata": {},
   "outputs": [],
   "source": [
    "#Visualizing the ELBOW method to get the optimal value of K \n",
    "a = plt.plot(range(1,11), wcss, color='b')\n",
    "plt.title('The Elbow Method')\n",
    "plt.xlabel('No of clusters')\n",
    "plt.ylabel('WCSS')\n",
    "plt.axvline(4, color='r') # vertical\n",
    "plt.savefig(path_fig+\"\\Elbowmethod.png\")\n",
    "plt.show()"
   ]
  },
  {
   "cell_type": "code",
   "execution_count": null,
   "id": "416277b0",
   "metadata": {},
   "outputs": [],
   "source": [
    "#Model Build\n",
    "kmeansmodel = KMeans(n_clusters= 4, init='k-means++', random_state=0)\n",
    "y_kmeans= kmeansmodel.fit_predict(components)"
   ]
  },
  {
   "cell_type": "code",
   "execution_count": null,
   "id": "1d27bdc0",
   "metadata": {},
   "outputs": [],
   "source": [
    "#Visualizing all the clusters \n",
    "#components = components.values\n",
    "\n",
    "plt.scatter(components.values[y_kmeans == 0, 0], components.values[y_kmeans == 0, 1], s = 10, c = 'red', label = 'Cluster 0')\n",
    "plt.scatter(components.values[y_kmeans == 1, 0], components.values[y_kmeans == 1, 1], s = 10, c = 'blue', label = 'Cluster 1')\n",
    "plt.scatter(components.values[y_kmeans == 2, 0], components.values[y_kmeans == 2, 1], s = 10, c = 'green', label = 'Cluster 2')\n",
    "plt.scatter(components.values[y_kmeans == 3, 0], components.values[y_kmeans == 3, 1], s = 10, c = 'orange', label = 'Cluster 3')\n",
    "plt.scatter(kmeansmodel.cluster_centers_[:, 0], kmeansmodel.cluster_centers_[:, 1], s = 30, c = 'yellow', label = 'Centroids')\n",
    "plt.title('Clusters of insured people')\n",
    "plt.xlabel('PC1')\n",
    "plt.ylabel('PC2')\n",
    "plt.legend()\n",
    "plt.savefig(path_fig+\"\\Clustering general.png\")\n",
    "plt.show()\n"
   ]
  },
  {
   "cell_type": "code",
   "execution_count": null,
   "id": "50905ac8",
   "metadata": {},
   "outputs": [],
   "source": [
    "cluster = pd.Series(y_kmeans, name=\"cluster\")\n",
    "cluster"
   ]
  },
  {
   "cell_type": "code",
   "execution_count": null,
   "id": "79907a7b",
   "metadata": {},
   "outputs": [],
   "source": [
    "final_descriptive = pd.concat([final_data, cluster], axis=1)\n",
    "final_descriptive.columns.values.tolist()"
   ]
  },
  {
   "cell_type": "code",
   "execution_count": null,
   "id": "c0ca1b89",
   "metadata": {},
   "outputs": [],
   "source": [
    "final_descriptive.groupby(cluster).describe().T"
   ]
  },
  {
   "cell_type": "code",
   "execution_count": null,
   "id": "b722b902",
   "metadata": {},
   "outputs": [],
   "source": [
    "loadings = pd.DataFrame(pca.components_.T, columns=['PC1', 'PC2'], index=final_data.columns)\n",
    "loadings\n",
    "\n"
   ]
  },
  {
   "cell_type": "code",
   "execution_count": null,
   "id": "21e55f38",
   "metadata": {},
   "outputs": [],
   "source": [
    "plt.scatter(final_descriptive.values[y_kmeans == 0, 3], final_descriptive.values[y_kmeans == 0, 1], s = 10, c = 'red', label = 'Cluster 0')\n",
    "plt.scatter(final_descriptive.values[y_kmeans == 1, 3], final_descriptive.values[y_kmeans == 1, 1], s = 10, c = 'blue', label = 'Cluster 1')\n",
    "plt.scatter(final_descriptive.values[y_kmeans == 2, 3], final_descriptive.values[y_kmeans == 2, 1], s = 10, c = 'green', label = 'Cluster 2')\n",
    "plt.scatter(final_descriptive.values[y_kmeans == 3, 3], final_descriptive.values[y_kmeans == 3, 1], s = 10, c = 'orange', label = 'Cluster 3')\n",
    "#plt.scatter(kmeansmodel.cluster_centers_[:, 0], kmeansmodel.cluster_centers_[:, 1], s = 30, c = 'yellow', label = 'Centroids')\n",
    "plt.title('Clusters of insured people')\n",
    "plt.xlabel('Billed individual medical costs ($)')\n",
    "plt.ylabel('Body Mass Index')\n",
    "plt.legend()\n",
    "plt.savefig(path_fig+\"\\Scatterplot with clusters BMI.png\")\n",
    "plt.show()"
   ]
  },
  {
   "cell_type": "code",
   "execution_count": null,
   "id": "b5632f65",
   "metadata": {},
   "outputs": [],
   "source": [
    "plt.scatter(final_descriptive.values[y_kmeans == 0, 3], final_descriptive.values[y_kmeans == 0, 0], s = 10, c = 'red', label = 'Cluster 0')\n",
    "plt.scatter(final_descriptive.values[y_kmeans == 1, 3], final_descriptive.values[y_kmeans == 1, 0], s = 10, c = 'blue', label = 'Cluster 1')\n",
    "plt.scatter(final_descriptive.values[y_kmeans == 2, 3], final_descriptive.values[y_kmeans == 2, 0], s = 10, c = 'green', label = 'Cluster 2')\n",
    "plt.scatter(final_descriptive.values[y_kmeans == 3, 3], final_descriptive.values[y_kmeans == 3, 0], s = 10, c = 'orange', label = 'Cluster 3')\n",
    "#plt.scatter(kmeansmodel.cluster_centers_[:, 0], kmeansmodel.cluster_centers_[:, 1], s = 30, c = 'yellow', label = 'Centroids')\n",
    "plt.title('Clusters of insured people')\n",
    "plt.xlabel('Billed individual medical costs ($)')\n",
    "plt.ylabel('Age')\n",
    "plt.legend()\n",
    "plt.savefig(path_fig+\"\\Scatterplot with clusters Age.png\")\n",
    "plt.show()"
   ]
  },
  {
   "cell_type": "code",
   "execution_count": null,
   "id": "dca6ae31",
   "metadata": {},
   "outputs": [],
   "source": [
    "G1 = sns.boxplot(data=final_descriptive, y=\"charges\", x=\"cluster\", hue=\"smoker_yes\")\n",
    "G1.set_ylabel(\"Billed individual medical costs ($)\")\n",
    "G1.set_xlabel('Cluster')\n",
    "plt.savefig(path_fig+\"\\Scatterplot with clusters Smoker.png\")"
   ]
  },
  {
   "cell_type": "code",
   "execution_count": null,
   "id": "d4350621",
   "metadata": {},
   "outputs": [],
   "source": [
    "G1 = sns.boxplot(data=final_descriptive, y=\"charges\", x=\"cluster\", hue=\"sex_female\")\n",
    "G1.set_ylabel(\"Billed individual medical costs ($)\")\n",
    "G1.set_xlabel('Cluster')"
   ]
  },
  {
   "cell_type": "code",
   "execution_count": null,
   "id": "2ba44bc7",
   "metadata": {},
   "outputs": [],
   "source": [
    "final_descriptive = pd.concat([final_descriptive, data_insurance[\"region\"]], axis = 1)"
   ]
  },
  {
   "cell_type": "code",
   "execution_count": null,
   "id": "9d14e05a",
   "metadata": {
    "scrolled": false
   },
   "outputs": [],
   "source": [
    "G1 = sns.boxplot(data=final_descriptive, y=\"charges\", x=\"cluster\", hue=\"region\")\n",
    "G1.set_ylabel(\"Billed individual medical costs ($)\")\n",
    "G1.set_xlabel('Cluster')"
   ]
  },
  {
   "cell_type": "code",
   "execution_count": null,
   "id": "c2e18045",
   "metadata": {},
   "outputs": [],
   "source": [
    "G1 = sns.boxplot(data=final_descriptive, y=\"charges\", x=\"cluster\", hue=\"children\")\n",
    "G1.set_ylabel(\"Billed individual medical costs ($)\")\n",
    "G1.set_xlabel('Cluster')"
   ]
  },
  {
   "cell_type": "code",
   "execution_count": null,
   "id": "7df3bc75",
   "metadata": {
    "scrolled": true
   },
   "outputs": [],
   "source": [
    "final_descriptive.columns"
   ]
  },
  {
   "cell_type": "code",
   "execution_count": null,
   "id": "2f3d0b1f",
   "metadata": {},
   "outputs": [],
   "source": [
    "final_descriptive.cluster.value_counts()"
   ]
  },
  {
   "cell_type": "code",
   "execution_count": null,
   "id": "5bc4f0e8",
   "metadata": {},
   "outputs": [],
   "source": [
    "# Fit Model & Output Regression Results Summary\n",
    "# Import Package\n",
    "#import statsmodels.api as sm\n",
    "#from statsmodels.api import add_constant"
   ]
  },
  {
   "cell_type": "code",
   "execution_count": null,
   "id": "deaad44c",
   "metadata": {},
   "outputs": [],
   "source": [
    "#doubles = dict()\n",
    "\n",
    "#for x in range(1, 13):\n",
    "#    doubles[x] = x * 2"
   ]
  },
  {
   "cell_type": "code",
   "execution_count": null,
   "id": "257d5d69",
   "metadata": {},
   "outputs": [],
   "source": [
    "#lm_cluster = dict()\n",
    "\n",
    "#for k in range(4):\n",
    "#    exec(f'y_{k} = final_descriptive[\"charges\"].loc[final_descriptive[\"cluster\"]=={k}]')\n",
    "    \n",
    "#    exec(f'X_{k} = final_descriptive[[\"age\", \"bmi\", \"children\", \"sex_female\", \"sex_male\", \"smoker_no\", \"smoker_yes\", \"region_northeast\", \"region_northwest\", \"region_southeast\", \"region_southwest\"]].loc[final_descriptive[\"cluster\"]=={k}]')\n",
    "\n",
    "#    exec(f'Xc_{k} = sm.add_constant(X_{k}, has_constant=\"add\")')\n",
    "#    exec(f'model_{k} = sm.OLS(y_{k},Xc_{k})')\n",
    "#    exec(f'results_{k} = model_{k}.fit()')\n",
    "\n",
    "    # Output Results\n",
    "    #results.summary()\n"
   ]
  },
  {
   "cell_type": "code",
   "execution_count": null,
   "id": "4d45d4ac",
   "metadata": {
    "scrolled": true
   },
   "outputs": [],
   "source": [
    "#results_3.summary()"
   ]
  },
  {
   "cell_type": "code",
   "execution_count": null,
   "id": "a4afb36a",
   "metadata": {},
   "outputs": [],
   "source": [
    "sns.histplot(data=final_descriptive, x=\"charges\", kde=True, hue=\"cluster\")\n",
    "plt.savefig(path_fig+\"\\Density analysis of Billed individual medical costs ($).png\")"
   ]
  },
  {
   "cell_type": "code",
   "execution_count": null,
   "id": "bb73c0d8",
   "metadata": {},
   "outputs": [],
   "source": [
    "#probability = final_descriptive.cluster.value_counts()/final_descriptive.shape[0]"
   ]
  },
  {
   "cell_type": "markdown",
   "id": "4a0012a3",
   "metadata": {},
   "source": [
    "#probability"
   ]
  },
  {
   "cell_type": "markdown",
   "id": "383a8b60",
   "metadata": {},
   "source": [
    "naccidents = 12\n",
    "#probability_accidents = np.ones((naccidents,1))*0.3\n",
    "probability_accidents = 0.3"
   ]
  },
  {
   "cell_type": "markdown",
   "id": "535af3d3",
   "metadata": {},
   "source": [
    "probability_accidents"
   ]
  },
  {
   "cell_type": "markdown",
   "id": "09122634",
   "metadata": {},
   "source": [
    "#df = pd.DataFrame(columns=['Valor Indemnization', 'Had accident', 'Cluster'], index=range(final_descriptive.shape[0]))"
   ]
  },
  {
   "cell_type": "markdown",
   "id": "83a7955e",
   "metadata": {},
   "source": [
    "## Simulation\n",
    "n, p = 1, probability_accidents  # number of trials, probability of each trial\n",
    "np.random.seed(0)\n",
    "p\n",
    "\n",
    "#SOLO FALTA ARREGLAR AQUI PARA HACER MATCH CON LOS CLUSTER"
   ]
  },
  {
   "cell_type": "markdown",
   "id": "78d8b2e0",
   "metadata": {},
   "source": [
    "\n",
    "for N in range(4):\n",
    "    #exec(f's_{N} = np.random.binomial(n, p[{N}], (final_descriptive.cluster.value_counts().iloc[{N}],12))')\n",
    "    exec(f's_{N} = np.random.binomial(n, p, (final_descriptive.cluster.value_counts().iloc[{N}],12))')\n",
    "    exec(f'print(s_{N}.shape)')\n",
    "    #exec(f'df_{N} = pd.DataFrame(columns=[\"Valor Indemnization\", \"Had accident\", \"Cluster\"], index=range(final_descriptive.cluster.value_counts().iloc[{N}]))')\n",
    "    #exec(f'print(df_{N}.shape)')\n",
    "    exec(f'print(s_{N}.mean())')\n",
    "    \n",
    "s_N = np.random.binomial(n, p, (final_descriptive.shape[0], 12))"
   ]
  },
  {
   "cell_type": "markdown",
   "id": "e52dfe24",
   "metadata": {},
   "source": [
    "df_N = pd.DataFrame(final_descriptive[\"charges\"].values, columns = [\"Indemnization Value\"])\n",
    "\n",
    "#### Hacemos el dataframe para la simulacion\n",
    "sim = pd.concat([pd.DataFrame(s_0),pd.DataFrame(s_1),pd.DataFrame(s_2),pd.DataFrame(s_3)], ignore_index=True)"
   ]
  },
  {
   "cell_type": "markdown",
   "id": "140f9b1e",
   "metadata": {},
   "source": [
    "result1 = pd.concat([ pd.DataFrame(df_N.values*sim.values), final_descriptive[\"cluster\"]], axis=1, join=\"inner\")\n",
    "## Simulacion para cada cluster\n",
    "\n",
    "\n",
    "result2 = pd.concat([pd.DataFrame(df_N.values*s_N), final_descriptive[\"cluster\"]], axis=1, join=\"inner\")\n",
    "## Simulacion para toda la base de datos"
   ]
  },
  {
   "cell_type": "markdown",
   "id": "5465f27a",
   "metadata": {
    "scrolled": true
   },
   "source": [
    "result1 = pd.concat([ pd.DataFrame(sim.values), final_descriptive[\"cluster\"]], axis=1, join=\"inner\")\n",
    "result1.cluster.value_counts()"
   ]
  },
  {
   "cell_type": "markdown",
   "id": "d1933d0c",
   "metadata": {},
   "source": [
    "result1, result2"
   ]
  },
  {
   "cell_type": "code",
   "execution_count": null,
   "id": "efac3b46",
   "metadata": {
    "scrolled": true
   },
   "outputs": [],
   "source": [
    "final_descriptive.cluster.value_counts()"
   ]
  },
  {
   "cell_type": "code",
   "execution_count": null,
   "id": "bad30e29",
   "metadata": {},
   "outputs": [],
   "source": [
    "#with pd.ExcelWriter(r\"G:\\My Drive\\PUC-Rio\\Trabalho final ADR - Bruno Fanzeres\\Simulation.xlsx\") as writer:  \n",
    "#    result1.to_excel(writer, sheet_name='MatrixCluster4')\n",
    "#    result2.to_excel(writer, sheet_name='MatrixTudo')"
   ]
  },
  {
   "cell_type": "markdown",
   "id": "3fcfa04f",
   "metadata": {},
   "source": [
    "# Exportar Base de datos"
   ]
  },
  {
   "cell_type": "code",
   "execution_count": null,
   "id": "40f81229",
   "metadata": {},
   "outputs": [],
   "source": [
    "sns.histplot(final_descriptive[\"charges\"])"
   ]
  },
  {
   "cell_type": "code",
   "execution_count": null,
   "id": "003796af",
   "metadata": {},
   "outputs": [],
   "source": [
    "#final_descriptive[\"charges\"] = np.log(final_descriptive[\"charges\"])\n",
    "final_descriptive.to_excel(r\"G:\\My Drive\\PUC-Rio\\PUC-Rio 2022-1\\Trabalho final ADR - Bruno Fanzeres\\Script\\Database.xlsx\")"
   ]
  },
  {
   "cell_type": "code",
   "execution_count": null,
   "id": "f2c7ed7f",
   "metadata": {},
   "outputs": [],
   "source": [
    "sns.histplot(data=np.log(final_descriptive[\"charges\"]))"
   ]
  },
  {
   "cell_type": "code",
   "execution_count": null,
   "id": "ca0eb20e",
   "metadata": {},
   "outputs": [],
   "source": [
    "final_descriptive[\"charges\"] = np.log(final_descriptive[\"charges\"])\n",
    "sns.histplot(data=final_descriptive, x=\"charges\", kde=True, hue=\"cluster\")"
   ]
  },
  {
   "cell_type": "code",
   "execution_count": null,
   "id": "43984fa7",
   "metadata": {},
   "outputs": [],
   "source": [
    "final_descriptive[\"charges\"].std()"
   ]
  },
  {
   "cell_type": "code",
   "execution_count": null,
   "id": "3aec2bc3",
   "metadata": {},
   "outputs": [],
   "source": [
    "np.log(final_descriptive[\"charges\"]).std()"
   ]
  },
  {
   "cell_type": "code",
   "execution_count": null,
   "id": "fa754713",
   "metadata": {},
   "outputs": [],
   "source": []
  }
 ],
 "metadata": {
  "kernelspec": {
   "display_name": "Python 3 (ipykernel)",
   "language": "python",
   "name": "python3"
  },
  "language_info": {
   "codemirror_mode": {
    "name": "ipython",
    "version": 3
   },
   "file_extension": ".py",
   "mimetype": "text/x-python",
   "name": "python",
   "nbconvert_exporter": "python",
   "pygments_lexer": "ipython3",
   "version": "3.10.5"
  }
 },
 "nbformat": 4,
 "nbformat_minor": 5
}
