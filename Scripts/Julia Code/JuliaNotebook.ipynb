{
 "cells": [
  {
   "cell_type": "code",
   "execution_count": 1,
   "id": "9488f80d",
   "metadata": {},
   "outputs": [],
   "source": [
    "using Random, Distributions,  XLSX, DataFrames, Plots,  CSV, QuasiMonteCarlo, HypothesisTests"
   ]
  },
  {
   "cell_type": "markdown",
   "id": "e47e0b92",
   "metadata": {},
   "source": [
    "# Quasi Monte Carlo (Stein, 1987):\n",
    "\n",
    "Both Monte Carlo and Quasi Monte Carlo uses Analytical Inversion Method for sampling. The sampling is with bootstrap\n",
    "\n",
    "## Asymptotic distribution properities:\n",
    "\n",
    "- $h(.)$: function that is applied to random vector $X$\n",
    "- $\\hat{h}$: estimator of $E[\\hat{h}]$\n",
    "\n",
    "## Classic monte-carlo:\n",
    "\n",
    "$var[\\hat{h}] = N^{-1} var[h(X)]$\n",
    "\n",
    "## Latin Hypercube:\n",
    "\n",
    "$var[\\hat{h}] = N^{-1} var[h(X)] + N^{-1} (N-1) cov[(h(X_1))(X_2)]$\n",
    "\n",
    "### When $N \\rightarrow \\infty$, the covariance term is asymptotically non-positive:\n",
    "\n",
    "$\\underset{N \\rightarrow \\infty}{lim} N cov[(h(X_1))(X_2)] \\leq 0$\n",
    "\n",
    "For any square integrable $h(X)$, **proof with Jensen's inequality**\n",
    "\n",
    "# Procedure (McKay et al., 1979)\n",
    "\n",
    "- $F_k$: the cummulative distribution of X_k, where k indexes the kth component of X_j for jth simulated value\n",
    "- $ \\xi_{jk}$: the $NK$ iid $\\sim U[0,1]$ random variables independent on $P$\n",
    "\n",
    "Sampling procedure:\n",
    "\n",
    "- $X_{jk}= F^{-1}_k[N^{-1}(p_{jk}-1+\\xi_{jk})]$\n",
    "\n",
    "# Insight\n",
    "\n",
    "The amount of variance reduction increases with the degree of additivity in the random quantities on which the function we are simulating depends.\n",
    "\n",
    "# Pseudo-algorithm\n",
    "\n",
    "1. Stratify the probability density function into $Z$ intervals\n",
    "2. Divide the cummulative curve into equal intervals\n",
    "3. A sample is randomly taken from each interval or stratification"
   ]
  },
  {
   "cell_type": "markdown",
   "id": "b62703c8",
   "metadata": {},
   "source": [
    "This function receives the charges of a cluster, a vector of the real cluster of the data, the dict of samples, the cluster that you want to analysis, the version of the cluster classification, and the size os the samples:\n",
    "- **v0 - algorithm based**\n",
    "- **v1 - smoker,**\n",
    "- **v2 - smoker, BMI, age**\n",
    "\n",
    "The idea is to return plots comparing the samples distributions and the real distribution."
   ]
  },
  {
   "cell_type": "code",
   "execution_count": 2,
   "id": "6fbb7e02",
   "metadata": {},
   "outputs": [
    {
     "data": {
      "text/plain": [
       "compare_dist (generic function with 1 method)"
      ]
     },
     "execution_count": 2,
     "metadata": {},
     "output_type": "execute_result"
    }
   ],
   "source": [
    "function compare_dist(y::Vector{Float64}, real_cluster::Vector{Float64}, sample::Dict, cluster::Union{Float64,String}, version::String, n::Vector{Int64})\n",
    "\n",
    "    #criando a distribuicao acumulada de ylabel\n",
    "    ordered_y = sort(y)\n",
    "    Fy = zeros(length(ordered_y))\n",
    "    for i in 1:length(y) \n",
    "        Fy[i] = i/length(y)\n",
    "    end\n",
    "\n",
    "    if cluster != \"base\"\n",
    "        prop_real = sum(real_cluster .== cluster) / length(real_cluster)\n",
    "    end\n",
    "\n",
    "    mc_p = plot(ordered_y, Fy, label = \"data\", legend = :topleft, colour = \"black\", linewidth = 1.5)\n",
    "           title!(\"Monte Carlo Sampling\")\n",
    "    qmc_p = plot(ordered_y, Fy,label = \"data\", legend = :topleft, colour = \"black\", linewidth = 1.5)\n",
    "            title!(\"QMC LatinHypercubeSample\")\n",
    "    j = 1\n",
    "\n",
    "    mc_pvalue = zeros(length(n))\n",
    "    qmc_pvalue = zeros(length(n))\n",
    "\n",
    "    mc_prop = zeros(length(n))\n",
    "    qmc_prop = zeros(length(n))\n",
    "\n",
    "    for i in n\n",
    "\n",
    "        if cluster != \"base\"\n",
    "            mc_y = sort(sample[\"MC\"][\"value\"][i][findall(j -> j == cluster,sample[\"MC\"][\"cluster\"][version][i])])\n",
    "            qmc_y = sort(sample[\"QMC\"][\"value\"][i][findall(j -> j == cluster,sample[\"QMC\"][\"cluster\"][version][i])])\n",
    "\n",
    "            mc_pvalue[j] = pvalue(ApproximateTwoSampleKSTest(y, sample[\"MC\"][\"value\"][i][findall(j -> j == cluster,sample[\"MC\"][\"cluster\"][version][i])]))\n",
    "            qmc_pvalue[j] = pvalue(ApproximateTwoSampleKSTest(y, sample[\"QMC\"][\"value\"][i][findall(j -> j == cluster,sample[\"QMC\"][\"cluster\"][version][i])]))\n",
    "        else\n",
    "            mc_y = sort(sample[\"MC\"][\"value\"][i])\n",
    "            qmc_y = sort(sample[\"QMC\"][\"value\"][i])\n",
    "\n",
    "            mc_pvalue[j] = pvalue(ApproximateTwoSampleKSTest(y, sample[\"MC\"][\"value\"][i]))\n",
    "            qmc_pvalue[j] = pvalue(ApproximateTwoSampleKSTest(y, sample[\"QMC\"][\"value\"][i]))\n",
    "        end\n",
    "\n",
    "        mc_fy = zeros(length(mc_y))\n",
    "        qmc_fy = zeros(length(qmc_y))\n",
    "\n",
    "        for j in 1:length(mc_y)\n",
    "            mc_fy[j] = j/length(mc_y)\n",
    "        end\n",
    "\n",
    "        for j in 1:length(qmc_y)\n",
    "            qmc_fy[j] = j/length(qmc_y)\n",
    "        end\n",
    "\n",
    "        mc_p = plot!(mc_p, mc_y, mc_fy, label = \"n = $i\", legend = false)\n",
    "        qmc_p = plot!(qmc_p, qmc_y, qmc_fy,label = \"n = $i\", legend = false)\n",
    "       \n",
    "        if cluster != \"base\"\n",
    "            mc_prop[j] = sum(sample[\"MC\"][\"cluster\"][version][i] .== cluster) / i\n",
    "            qmc_prop[j] = sum(sample[\"QMC\"][\"cluster\"][version][i] .== cluster) / i\n",
    "        end\n",
    "\n",
    "        j += 1\n",
    "    end\n",
    "\n",
    "    pvalue_p = plot(n, mc_pvalue, label = \"MC\")\n",
    "               plot!(n, qmc_pvalue, label = \"QMC\", legend = :bottomright)\n",
    "               title!(\"KS Test: P-value\")\n",
    "\n",
    "    if cluster != \"base\"\n",
    "        prop_p = plot(n, mc_prop, label = \"MC\")\n",
    "                plot!(n, qmc_prop, label = \"QMC\", legend = :bottomright)\n",
    "                hline!(n, [prop_real], label = \"Real Prop.\", colour = \"black\")\n",
    "                title!(\"Proportion convergence\")\n",
    "        \n",
    "        return mc_p, qmc_p, pvalue_p, prop_p\n",
    "    else\n",
    "        return mc_p, qmc_p, pvalue_p, nothing\n",
    "    end\n",
    "end"
   ]
  },
  {
   "cell_type": "markdown",
   "id": "f2b4205c",
   "metadata": {},
   "source": [
    "### Read data and create the main matrix (data + k-means results) "
   ]
  },
  {
   "cell_type": "code",
   "execution_count": 3,
   "id": "d47322a7",
   "metadata": {},
   "outputs": [
    {
     "ename": "LoadError",
     "evalue": "ArgumentError: \"C:\\Users\\xx-re\\OneDrive\\Documentos\\ADR\\Insurance-Mathematics-Economics-ADR\\Scripts\\Databases\\Database.csv\" is not a valid file or doesn't exist",
     "output_type": "error",
     "traceback": [
      "ArgumentError: \"C:\\Users\\xx-re\\OneDrive\\Documentos\\ADR\\Insurance-Mathematics-Economics-ADR\\Scripts\\Databases\\Database.csv\" is not a valid file or doesn't exist",
      "",
      "Stacktrace:",
      " [1] CSV.Context(source::CSV.Arg, header::CSV.Arg, normalizenames::CSV.Arg, datarow::CSV.Arg, skipto::CSV.Arg, footerskip::CSV.Arg, transpose::CSV.Arg, comment::CSV.Arg, ignoreemptyrows::CSV.Arg, ignoreemptylines::CSV.Arg, select::CSV.Arg, drop::CSV.Arg, limit::CSV.Arg, buffer_in_memory::CSV.Arg, threaded::CSV.Arg, ntasks::CSV.Arg, tasks::CSV.Arg, rows_to_check::CSV.Arg, lines_to_check::CSV.Arg, missingstrings::CSV.Arg, missingstring::CSV.Arg, delim::CSV.Arg, ignorerepeated::CSV.Arg, quoted::CSV.Arg, quotechar::CSV.Arg, openquotechar::CSV.Arg, closequotechar::CSV.Arg, escapechar::CSV.Arg, dateformat::CSV.Arg, dateformats::CSV.Arg, decimal::CSV.Arg, truestrings::CSV.Arg, falsestrings::CSV.Arg, stripwhitespace::CSV.Arg, type::CSV.Arg, types::CSV.Arg, typemap::CSV.Arg, pool::CSV.Arg, downcast::CSV.Arg, lazystrings::CSV.Arg, stringtype::CSV.Arg, strict::CSV.Arg, silencewarnings::CSV.Arg, maxwarnings::CSV.Arg, debug::CSV.Arg, parsingdebug::CSV.Arg, validate::CSV.Arg, streaming::CSV.Arg)",
      "   @ CSV C:\\Users\\xx-re\\.julia\\packages\\CSV\\jFiCn\\src\\context.jl:236",
      " [2] #File#25",
      "   @ C:\\Users\\xx-re\\.julia\\packages\\CSV\\jFiCn\\src\\file.jl:221 [inlined]",
      " [3] CSV.File(source::String)",
      "   @ CSV C:\\Users\\xx-re\\.julia\\packages\\CSV\\jFiCn\\src\\file.jl:221",
      " [4] top-level scope",
      "   @ In[3]:3",
      " [5] eval",
      "   @ .\\boot.jl:373 [inlined]",
      " [6] include_string(mapexpr::typeof(REPL.softscope), mod::Module, code::String, filename::String)",
      "   @ Base .\\loading.jl:1196"
     ]
    }
   ],
   "source": [
    "filePath = abspath(joinpath(pwd(), \"..\"))\n",
    "Pathread1 = string(filePath, \"Databases\\\\Database.csv\");\n",
    "base_v1 = DataFrame(CSV.File(Pathread1));\n",
    "\n",
    "Pathread2 = string(filePath, \"Databases\\\\contracts.csv\");\n",
    "base_v2 = DataFrame(CSV.File(Pathread2));\n",
    "\n",
    "dados = Matrix{Float64}(base_v1[:, [7, 10]])\n",
    "\n",
    "# Charges || Cluster(K-means)"
   ]
  },
  {
   "cell_type": "code",
   "execution_count": 4,
   "id": "77cb2fe0",
   "metadata": {},
   "outputs": [
    {
     "ename": "LoadError",
     "evalue": "UndefVarError: base_v1 not defined",
     "output_type": "error",
     "traceback": [
      "UndefVarError: base_v1 not defined",
      "",
      "Stacktrace:",
      " [1] top-level scope",
      "   @ In[4]:1",
      " [2] eval",
      "   @ .\\boot.jl:373 [inlined]",
      " [3] include_string(mapexpr::typeof(REPL.softscope), mod::Module, code::String, filename::String)",
      "   @ Base .\\loading.jl:1196"
     ]
    }
   ],
   "source": [
    "describe(base_v1), describe(base_v2)"
   ]
  },
  {
   "cell_type": "markdown",
   "id": "9ff2b682",
   "metadata": {},
   "source": [
    "#### Pre-allocations"
   ]
  },
  {
   "cell_type": "code",
   "execution_count": 5,
   "id": "1bb9b031",
   "metadata": {},
   "outputs": [
    {
     "ename": "LoadError",
     "evalue": "UndefVarError: dados not defined",
     "output_type": "error",
     "traceback": [
      "UndefVarError: dados not defined",
      "",
      "Stacktrace:",
      " [1] top-level scope",
      "   @ In[5]:1",
      " [2] eval",
      "   @ .\\boot.jl:373 [inlined]",
      " [3] include_string(mapexpr::typeof(REPL.softscope), mod::Module, code::String, filename::String)",
      "   @ Base .\\loading.jl:1196"
     ]
    }
   ],
   "source": [
    "ordered_y = sort(dados[:, 1])\n",
    "\n",
    "Fy = zeros(length(ordered_y))\n",
    "for i in 1:1338 \n",
    "    Fy[i] = i/1338\n",
    "end\n",
    "\n",
    "sample = Dict()\n",
    "sample[\"MC\"] = Dict()\n",
    "sample[\"QMC\"] = Dict()\n",
    "sample[\"MC\"][\"value\"] = Dict()\n",
    "sample[\"MC\"][\"cluster\"] = Dict()\n",
    "sample[\"MC\"][\"cluster\"][\"v0\"] = Dict()\n",
    "sample[\"MC\"][\"cluster\"][\"v1\"] = Dict()\n",
    "sample[\"MC\"][\"cluster\"][\"v2\"] = Dict()\n",
    "sample[\"QMC\"][\"value\"] = Dict()\n",
    "sample[\"QMC\"][\"cluster\"] = Dict()\n",
    "sample[\"QMC\"][\"cluster\"][\"v0\"] = Dict()\n",
    "sample[\"QMC\"][\"cluster\"][\"v1\"] = Dict()\n",
    "sample[\"QMC\"][\"cluster\"][\"v2\"] = Dict()\n",
    "\n",
    "Random.seed!(123)\n",
    "seed_mc = rand(collect(1:1000), 20) #seeds used in the Monte carlo sampling\n",
    "Random.seed!(321)\n",
    "seed_qmc = rand(collect(1:1000), 20) #seeds used in the Quasi-Monte carlo sampling\n",
    "\n",
    "n = collect(100:100:2000);"
   ]
  },
  {
   "cell_type": "markdown",
   "id": "00a0f672",
   "metadata": {},
   "source": [
    "# Main loop"
   ]
  },
  {
   "cell_type": "code",
   "execution_count": 6,
   "id": "fc5f6bbf",
   "metadata": {},
   "outputs": [
    {
     "ename": "LoadError",
     "evalue": "UndefVarError: n not defined",
     "output_type": "error",
     "traceback": [
      "UndefVarError: n not defined",
      "",
      "Stacktrace:",
      " [1] top-level scope",
      "   @ In[6]:1",
      " [2] eval",
      "   @ .\\boot.jl:373 [inlined]",
      " [3] include_string(mapexpr::typeof(REPL.softscope), mod::Module, code::String, filename::String)",
      "   @ Base .\\loading.jl:1196"
     ]
    }
   ],
   "source": [
    "for j in 1:length(n)\n",
    "\n",
    "    println(\"j = $j\")\n",
    "    MC_sample = zeros(n[j])\n",
    "    MC_cluster_v0 = zeros(n[j]) #cluster by algorithm\n",
    "    MC_cluster_v1 = zeros(n[j]) #cluster by smoker variable\n",
    "    MC_cluster_v2 = zeros(n[j]) #cluster by smoder, BMI and age variables\n",
    "\n",
    "    QMC_sample_latin = zeros(n[j])\n",
    "    QMC_cluster_v0_latin = zeros(n[j])\n",
    "    QMC_cluster_v1_latin = zeros(n[j])\n",
    "    QMC_cluster_v2_latin = zeros(n[j])\n",
    "\n",
    "    Random.seed!(seed_mc[j])\n",
    "    MC_idx = rand(Uniform(minimum(Fy),1), n[j]) #Monte-Carlo sampling\n",
    "    Random.seed!(seed_qmc[j])\n",
    "    QMC_idx_latin = QuasiMonteCarlo.sample(n[j],minimum(Fy),1,LatinHypercubeSample()) #Quasi MonteCarlo\n",
    "    \n",
    "    for i in 1:n[j]\n",
    "        mc_idx = maximum(findall(k -> k <= MC_idx[i], Fy)) #obtaining the index of sampled value in the real cumulative distribution \n",
    "        qmc_idx_latin = maximum(findall(k -> k <= QMC_idx_latin[i], Fy)) #obtaining the index of sampled value in the real cumulative distribution \n",
    "\n",
    "        MC_sample[i] = ordered_y[mc_idx] #obtaining the value sampled by Monte carlo\n",
    "        MC_cluster_v0[i] = dados[findall(m -> m == MC_sample[i], dados[:, 1])[1],2] #obtaining the cluster of the sampled value by Monte carlo\n",
    "        MC_cluster_v1[i] = base_v2[findall(m -> m == MC_sample[i], base_v2[:, 1])[1],7] #obtaining the cluster of the sampled value by Monte carlo\n",
    "        MC_cluster_v2[i] = base_v2[findall(m -> m == MC_sample[i], base_v2[:, 1])[1],6] #obtaining the cluster of the sampled value by Monte carlo\n",
    "    \n",
    "        QMC_sample_latin[i] = ordered_y[qmc_idx_latin]\n",
    "        QMC_cluster_v0_latin[i] = dados[findall(m -> m == QMC_sample_latin[i], dados[:, 1])[1],2] #obtaining the cluster of the sampled value by Quasi-Monte carlo\n",
    "        QMC_cluster_v1_latin[i] = base_v2[findall(m -> m == QMC_sample_latin[i], base_v2[:, 1])[1],7] #obtaining the cluster of the sampled value by Quasi-Monte carlo\n",
    "        QMC_cluster_v2_latin[i] = base_v2[findall(m -> m == QMC_sample_latin[i], base_v2[:, 1])[1],6] #obtaining the cluster of the sampled value by Quasi-Monte carlo\n",
    "    end\n",
    "    sample[\"MC\"][\"value\"][n[j]] = MC_sample\n",
    "    sample[\"MC\"][\"cluster\"][\"v0\"][n[j]] = MC_cluster_v0\n",
    "    sample[\"MC\"][\"cluster\"][\"v1\"][n[j]] = MC_cluster_v1\n",
    "    sample[\"MC\"][\"cluster\"][\"v2\"][n[j]] = MC_cluster_v2\n",
    "    sample[\"QMC\"][\"value\"][n[j]] = QMC_sample_latin\n",
    "    sample[\"QMC\"][\"cluster\"][\"v0\"][n[j]] = QMC_cluster_v0_latin\n",
    "    sample[\"QMC\"][\"cluster\"][\"v1\"][n[j]] = QMC_cluster_v1_latin\n",
    "    sample[\"QMC\"][\"cluster\"][\"v2\"][n[j]] = QMC_cluster_v2_latin\n",
    "end\n",
    "\n",
    "#complete database\n",
    "mc_base, qmc_base, pvalue_base, prop_base = compare_dist(dados[:, 1],dados[:, 2], sample, \"base\", \"v0\", n)\n",
    "\n",
    "# V0 clustering\n",
    "cluster0 = dados[findall(i -> i == 0.0, dados[:, 2]), :]\n",
    "cluster1 = dados[findall(i -> i == 1.0, dados[:, 2]), :]\n",
    "cluster2 = dados[findall(i -> i == 2.0, dados[:, 2]), :]\n",
    "cluster3 = dados[findall(i -> i == 3.0, dados[:, 2]), :]\n",
    "\n",
    "mc_c0, qmc_c0, c0_pvalue, c0_prop = compare_dist(cluster0[:, 1],dados[:, 2], sample, 0.0, \"v0\", n)\n",
    "mc_c1, qmc_c1, c1_pvalue, c1_prop= compare_dist(cluster1[:, 1],dados[:, 2], sample, 1.0,\"v0\", n)\n",
    "mc_c2, qmc_c2, c2_pvalue, c2_prop = compare_dist(cluster2[:, 1],dados[:, 2], sample, 2.0, \"v0\", n)\n",
    "mc_c3, qmc_c3, c3_pvalue, c3_prop = compare_dist(cluster3[:, 1], dados[:, 2],sample, 3.0, \"v0\", n)\n",
    "\n",
    "#v1 clustering\n",
    "cluster0 = Matrix{Float64}(base_v2[findall(i -> i == 0.0, base_v2[:, 7]), [1,7]])\n",
    "cluster1 = Matrix{Float64}(base_v2[findall(i -> i == 1.0, base_v2[:, 7]), [1,7]])\n",
    "\n",
    "mc_c0, qmc_c0, c0_pvalue, c0_prop = compare_dist(cluster0[:, 1],Vector{Float64}(base_v2[:, 7]), sample, 0.0, \"v1\", n)\n",
    "mc_c1, qmc_c1, c1_pvalue, c1_prop= compare_dist(cluster1[:, 1],Vector{Float64}(base_v2[:, 7]), sample, 1.0,\"v1\", n)\n",
    "\n",
    "#v2 clustering\n",
    "cluster0 = Matrix{Float64}(base_v2[findall(i -> i == 0.0, base_v2[:, 6]), [1,6]])\n",
    "cluster1 = Matrix{Float64}(base_v2[findall(i -> i == 1.0, base_v2[:, 6]), [1,6]])\n",
    "cluster2 = Matrix{Float64}(base_v2[findall(i -> i == 2.0, base_v2[:, 6]), [1,6]])\n",
    "cluster3 = Matrix{Float64}(base_v2[findall(i -> i == 3.0, base_v2[:, 6]), [1,6]])\n",
    "cluster4 = Matrix{Float64}(base_v2[findall(i -> i == 4.0, base_v2[:, 6]), [1,6]])\n",
    "cluster5 = Matrix{Float64}(base_v2[findall(i -> i == 5.0, base_v2[:, 6]), [1,6]])\n",
    "cluster6 = Matrix{Float64}(base_v2[findall(i -> i == 6.0, base_v2[:, 6]), [1,6]])\n",
    "cluster7 = Matrix{Float64}(base_v2[findall(i -> i == 7.0, base_v2[:, 6]), [1,6]])\n",
    "\n",
    "\n",
    "mc_c0, qmc_c0, c0_pvalue, c0_prop = compare_dist(cluster0[:, 1],Vector{Float64}(base_v2[:, 6]), sample, 0.0, \"v2\", n)\n",
    "mc_c1, qmc_c1, c1_pvalue, c1_prop= compare_dist(cluster1[:, 1],Vector{Float64}(base_v2[:, 6]), sample, 1.0,\"v2\", n)\n",
    "mc_c2, qmc_c2, c2_pvalue, c2_prop = compare_dist(cluster2[:, 1],Vector{Float64}(base_v2[:, 6]), sample, 2.0, \"v2\", n)\n",
    "mc_c3, qmc_c3, c3_pvalue, c3_prop = compare_dist(cluster3[:, 1],Vector{Float64}(base_v2[:, 6]), sample, 3.0,\"v2\", n)\n",
    "mc_c4, qmc_c4, c4_pvalue, c4_prop = compare_dist(cluster4[:, 1],Vector{Float64}(base_v2[:, 6]), sample, 4.0, \"v2\", n)\n",
    "mc_c5, qmc_c5, c5_pvalue, c5_prop = compare_dist(cluster5[:, 1],Vector{Float64}(base_v2[:, 6]), sample, 5.0,\"v2\", n)\n",
    "mc_c6, qmc_c6, c6_pvalue, c6_prop = compare_dist(cluster6[:, 1],Vector{Float64}(base_v2[:, 6]), sample, 6.0, \"v2\", n)\n",
    "mc_c7, qmc_c7, c7_pvalue, c7_prop = compare_dist(cluster7[:, 1],Vector{Float64}(base_v2[:, 6]), sample, 7.0,\"v2\", n)"
   ]
  },
  {
   "cell_type": "code",
   "execution_count": 7,
   "id": "4137a8cc",
   "metadata": {},
   "outputs": [
    {
     "ename": "LoadError",
     "evalue": "ArgumentError: Package PyPlot not found in current path:\n- Run `import Pkg; Pkg.add(\"PyPlot\")` to install the PyPlot package.\n",
     "output_type": "error",
     "traceback": [
      "ArgumentError: Package PyPlot not found in current path:\n- Run `import Pkg; Pkg.add(\"PyPlot\")` to install the PyPlot package.\n",
      "",
      "Stacktrace:",
      "  [1] require(into::Module, mod::Symbol)",
      "    @ Base .\\loading.jl:967",
      "  [2] top-level scope",
      "    @ C:\\Users\\xx-re\\.julia\\packages\\Plots\\1KWPG\\src\\backends.jl:681",
      "  [3] eval",
      "    @ .\\boot.jl:373 [inlined]",
      "  [4] _initialize_backend(#unused#::Plots.PyPlotBackend)",
      "    @ Plots C:\\Users\\xx-re\\.julia\\packages\\Plots\\1KWPG\\src\\backends.jl:680",
      "  [5] backend(pkg::Plots.PyPlotBackend)",
      "    @ Plots C:\\Users\\xx-re\\.julia\\packages\\Plots\\1KWPG\\src\\backends.jl:176",
      "  [6] #pyplot#249",
      "    @ C:\\Users\\xx-re\\.julia\\packages\\Plots\\1KWPG\\src\\backends.jl:31 [inlined]",
      "  [7] pyplot()",
      "    @ Plots C:\\Users\\xx-re\\.julia\\packages\\Plots\\1KWPG\\src\\backends.jl:31",
      "  [8] top-level scope",
      "    @ In[7]:1",
      "  [9] eval",
      "    @ .\\boot.jl:373 [inlined]",
      " [10] include_string(mapexpr::typeof(REPL.softscope), mod::Module, code::String, filename::String)",
      "    @ Base .\\loading.jl:1196"
     ]
    }
   ],
   "source": [
    "pyplot()\n",
    "mc_base"
   ]
  },
  {
   "cell_type": "code",
   "execution_count": 8,
   "id": "9cfe02e0",
   "metadata": {},
   "outputs": [
    {
     "ename": "LoadError",
     "evalue": "UndefVarError: qmc_base not defined",
     "output_type": "error",
     "traceback": [
      "UndefVarError: qmc_base not defined",
      "",
      "Stacktrace:",
      " [1] top-level scope",
      "   @ :0",
      " [2] eval",
      "   @ .\\boot.jl:373 [inlined]",
      " [3] include_string(mapexpr::typeof(REPL.softscope), mod::Module, code::String, filename::String)",
      "   @ Base .\\loading.jl:1196"
     ]
    }
   ],
   "source": [
    "qmc_base"
   ]
  },
  {
   "cell_type": "code",
   "execution_count": 9,
   "id": "fc06a35c",
   "metadata": {},
   "outputs": [
    {
     "ename": "LoadError",
     "evalue": "UndefVarError: pvalue_base not defined",
     "output_type": "error",
     "traceback": [
      "UndefVarError: pvalue_base not defined",
      "",
      "Stacktrace:",
      " [1] top-level scope",
      "   @ :0",
      " [2] eval",
      "   @ .\\boot.jl:373 [inlined]",
      " [3] include_string(mapexpr::typeof(REPL.softscope), mod::Module, code::String, filename::String)",
      "   @ Base .\\loading.jl:1196"
     ]
    }
   ],
   "source": [
    "pvalue_base"
   ]
  },
  {
   "cell_type": "code",
   "execution_count": 10,
   "id": "9d39b177",
   "metadata": {},
   "outputs": [
    {
     "ename": "LoadError",
     "evalue": "UndefVarError: prop_base not defined",
     "output_type": "error",
     "traceback": [
      "UndefVarError: prop_base not defined",
      "",
      "Stacktrace:",
      " [1] top-level scope",
      "   @ :0",
      " [2] eval",
      "   @ .\\boot.jl:373 [inlined]",
      " [3] include_string(mapexpr::typeof(REPL.softscope), mod::Module, code::String, filename::String)",
      "   @ Base .\\loading.jl:1196"
     ]
    }
   ],
   "source": [
    "prop_base"
   ]
  },
  {
   "cell_type": "markdown",
   "id": "32ff4c38",
   "metadata": {},
   "source": [
    "### Checking if the distributions of each cluster differ from other using KS-test"
   ]
  },
  {
   "cell_type": "code",
   "execution_count": 11,
   "id": "7805a111",
   "metadata": {},
   "outputs": [
    {
     "ename": "LoadError",
     "evalue": "UndefVarError: base_v2 not defined",
     "output_type": "error",
     "traceback": [
      "UndefVarError: base_v2 not defined",
      "",
      "Stacktrace:",
      " [1] top-level scope",
      "   @ In[11]:12",
      " [2] eval",
      "   @ .\\boot.jl:373 [inlined]",
      " [3] include_string(mapexpr::typeof(REPL.softscope), mod::Module, code::String, filename::String)",
      "   @ Base .\\loading.jl:1196"
     ]
    }
   ],
   "source": [
    "cst = Vector{Float64}(collect(0:7))\n",
    "p_value = Matrix{Any}(zeros(9,9))\n",
    "p_value[1,2:end] = [\"Cluster 0\",\"Cluster 1\",\"Cluster 2\",\"Cluster 3\",\"Cluster 4\",\"Cluster 5\",\"Cluster 6\",\"Cluster 7\"]\n",
    "p_value[2:end,1] = [\"Cluster 0\",\"Cluster 1\",\"Cluster 2\",\"Cluster 3\",\"Cluster 4\",\"Cluster 5\",\"Cluster 6\",\"Cluster 7\"]\n",
    "\n",
    "m = 0\n",
    "n = 0\n",
    "for i in cst\n",
    "    m +=1\n",
    "    for j in cst\n",
    "        n+=1\n",
    "        x = base_v2[findall(k -> k == i, base_v2[:, 6]), [1]][:, 1]\n",
    "        y = base_v2[findall(k -> k == j, base_v2[:, 6]), [1]][:, 1]\n",
    "        p_value[m+1,n+1] = round(pvalue(ApproximateTwoSampleKSTest(x, y)), digits = 5)\n",
    "    end\n",
    "    n = 0\n",
    "end"
   ]
  },
  {
   "cell_type": "code",
   "execution_count": 12,
   "id": "33fc1986",
   "metadata": {},
   "outputs": [
    {
     "data": {
      "text/html": [
       "<div class=\"data-frame\"><p>8 rows × 9 columns (omitted printing of 1 columns)</p><table class=\"data-frame\"><thead><tr><th></th><th>Cluster</th><th>Cluster 0</th><th>Cluster 1</th><th>Cluster 2</th><th>Cluster 3</th><th>Cluster 4</th><th>Cluster 5</th><th>Cluster 6</th></tr><tr><th></th><th title=\"Any\">Any</th><th title=\"Any\">Any</th><th title=\"Any\">Any</th><th title=\"Any\">Any</th><th title=\"Any\">Any</th><th title=\"Any\">Any</th><th title=\"Any\">Any</th><th title=\"Any\">Any</th></tr></thead><tbody><tr><th>1</th><td>Cluster 0</td><td>0.0</td><td>0.0</td><td>0.0</td><td>0.0</td><td>0.0</td><td>0.0</td><td>0.0</td></tr><tr><th>2</th><td>Cluster 1</td><td>0.0</td><td>0.0</td><td>0.0</td><td>0.0</td><td>0.0</td><td>0.0</td><td>0.0</td></tr><tr><th>3</th><td>Cluster 2</td><td>0.0</td><td>0.0</td><td>0.0</td><td>0.0</td><td>0.0</td><td>0.0</td><td>0.0</td></tr><tr><th>4</th><td>Cluster 3</td><td>0.0</td><td>0.0</td><td>0.0</td><td>0.0</td><td>0.0</td><td>0.0</td><td>0.0</td></tr><tr><th>5</th><td>Cluster 4</td><td>0.0</td><td>0.0</td><td>0.0</td><td>0.0</td><td>0.0</td><td>0.0</td><td>0.0</td></tr><tr><th>6</th><td>Cluster 5</td><td>0.0</td><td>0.0</td><td>0.0</td><td>0.0</td><td>0.0</td><td>0.0</td><td>0.0</td></tr><tr><th>7</th><td>Cluster 6</td><td>0.0</td><td>0.0</td><td>0.0</td><td>0.0</td><td>0.0</td><td>0.0</td><td>0.0</td></tr><tr><th>8</th><td>Cluster 7</td><td>0.0</td><td>0.0</td><td>0.0</td><td>0.0</td><td>0.0</td><td>0.0</td><td>0.0</td></tr></tbody></table></div>"
      ],
      "text/latex": [
       "\\begin{tabular}{r|ccccccccc}\n",
       "\t& Cluster & Cluster 0 & Cluster 1 & Cluster 2 & Cluster 3 & Cluster 4 & Cluster 5 & Cluster 6 & \\\\\n",
       "\t\\hline\n",
       "\t& Any & Any & Any & Any & Any & Any & Any & Any & \\\\\n",
       "\t\\hline\n",
       "\t1 & Cluster 0 & 0.0 & 0.0 & 0.0 & 0.0 & 0.0 & 0.0 & 0.0 & $\\dots$ \\\\\n",
       "\t2 & Cluster 1 & 0.0 & 0.0 & 0.0 & 0.0 & 0.0 & 0.0 & 0.0 & $\\dots$ \\\\\n",
       "\t3 & Cluster 2 & 0.0 & 0.0 & 0.0 & 0.0 & 0.0 & 0.0 & 0.0 & $\\dots$ \\\\\n",
       "\t4 & Cluster 3 & 0.0 & 0.0 & 0.0 & 0.0 & 0.0 & 0.0 & 0.0 & $\\dots$ \\\\\n",
       "\t5 & Cluster 4 & 0.0 & 0.0 & 0.0 & 0.0 & 0.0 & 0.0 & 0.0 & $\\dots$ \\\\\n",
       "\t6 & Cluster 5 & 0.0 & 0.0 & 0.0 & 0.0 & 0.0 & 0.0 & 0.0 & $\\dots$ \\\\\n",
       "\t7 & Cluster 6 & 0.0 & 0.0 & 0.0 & 0.0 & 0.0 & 0.0 & 0.0 & $\\dots$ \\\\\n",
       "\t8 & Cluster 7 & 0.0 & 0.0 & 0.0 & 0.0 & 0.0 & 0.0 & 0.0 & $\\dots$ \\\\\n",
       "\\end{tabular}\n"
      ],
      "text/plain": [
       "\u001b[1m8×9 DataFrame\u001b[0m\n",
       "\u001b[1m Row \u001b[0m│\u001b[1m Cluster   \u001b[0m\u001b[1m Cluster 0 \u001b[0m\u001b[1m Cluster 1 \u001b[0m\u001b[1m Cluster 2 \u001b[0m\u001b[1m Cluster 3 \u001b[0m\u001b[1m Cluster 4 \u001b[0m\u001b[1m Clust\u001b[0m ⋯\n",
       "\u001b[1m     \u001b[0m│\u001b[90m Any       \u001b[0m\u001b[90m Any       \u001b[0m\u001b[90m Any       \u001b[0m\u001b[90m Any       \u001b[0m\u001b[90m Any       \u001b[0m\u001b[90m Any       \u001b[0m\u001b[90m Any  \u001b[0m ⋯\n",
       "─────┼──────────────────────────────────────────────────────────────────────────\n",
       "   1 │ Cluster 0  0.0        0.0        0.0        0.0        0.0        0.0   ⋯\n",
       "   2 │ Cluster 1  0.0        0.0        0.0        0.0        0.0        0.0\n",
       "   3 │ Cluster 2  0.0        0.0        0.0        0.0        0.0        0.0\n",
       "   4 │ Cluster 3  0.0        0.0        0.0        0.0        0.0        0.0\n",
       "   5 │ Cluster 4  0.0        0.0        0.0        0.0        0.0        0.0   ⋯\n",
       "   6 │ Cluster 5  0.0        0.0        0.0        0.0        0.0        0.0\n",
       "   7 │ Cluster 6  0.0        0.0        0.0        0.0        0.0        0.0\n",
       "   8 │ Cluster 7  0.0        0.0        0.0        0.0        0.0        0.0\n",
       "\u001b[36m                                                               3 columns omitted\u001b[0m"
      ]
     },
     "execution_count": 12,
     "metadata": {},
     "output_type": "execute_result"
    }
   ],
   "source": [
    "DataFrame(p_value[2:end,:], [\"Cluster\", \"Cluster 0\", \"Cluster 1\", \"Cluster 2\", \"Cluster 3\", \"Cluster 4\", \"Cluster 5\", \"Cluster 6\", \"Cluster 7\"])"
   ]
  }
 ],
 "metadata": {
  "kernelspec": {
   "display_name": "Julia 1.7.2",
   "language": "julia",
   "name": "julia-1.7"
  },
  "language_info": {
   "file_extension": ".jl",
   "mimetype": "application/julia",
   "name": "julia",
   "version": "1.7.2"
  }
 },
 "nbformat": 4,
 "nbformat_minor": 5
}
