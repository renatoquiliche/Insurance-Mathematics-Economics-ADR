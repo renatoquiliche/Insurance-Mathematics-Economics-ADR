{
 "cells": [
  {
   "cell_type": "code",
   "execution_count": 6,
   "id": "caf17619",
   "metadata": {},
   "outputs": [],
   "source": [
    "using Random, Distributions,  XLSX, DataFrames, Plots,  CSV, QuasiMonteCarlo, HypothesisTests, HTTP"
   ]
  },
  {
   "cell_type": "markdown",
   "id": "0165c9d3",
   "metadata": {},
   "source": [
    "This function receives the charges of a cluster, a vector of the real cluster of the data, the dict of samples, the cluster that you want to analysis, the version of the cluster classification, and the size os the samples:\n",
    "- **v0 - algorithm based**\n",
    "- **v1 - smoker,**\n",
    "- **v2 - smoker, BMI, age**\n",
    "\n",
    "The idea is to return plots comparing the samples distributions and the real distribution."
   ]
  },
  {
   "cell_type": "code",
   "execution_count": 2,
   "id": "68b2dccc",
   "metadata": {},
   "outputs": [
    {
     "data": {
      "text/plain": [
       "compare_dist (generic function with 1 method)"
      ]
     },
     "execution_count": 2,
     "metadata": {},
     "output_type": "execute_result"
    }
   ],
   "source": [
    "function compare_dist(y::Vector{Float64}, real_cluster::Vector{Float64}, sample::Dict, cluster::Union{Float64,String}, version::String, n::Vector{Int64})\n",
    "\n",
    "    #criando a distribuicao acumulada de ylabel\n",
    "    ordered_y = sort(y)\n",
    "    Fy = zeros(length(ordered_y))\n",
    "    for i in 1:length(y) \n",
    "        Fy[i] = i/length(y)\n",
    "    end\n",
    "\n",
    "    if cluster != \"base\"\n",
    "        prop_real = sum(real_cluster .== cluster) / length(real_cluster)\n",
    "    end\n",
    "\n",
    "    mc_p = plot(ordered_y, Fy, label = \"data\", legend = :topleft, colour = \"black\", linewidth = 1.5)\n",
    "           title!(\"Monte Carlo Sampling\")\n",
    "    qmc_p = plot(ordered_y, Fy,label = \"data\", legend = :topleft, colour = \"black\", linewidth = 1.5)\n",
    "            title!(\"QMC LatinHypercubeSample\")\n",
    "    j = 1\n",
    "\n",
    "    mc_pvalue = zeros(length(n))\n",
    "    qmc_pvalue = zeros(length(n))\n",
    "\n",
    "    mc_prop = zeros(length(n))\n",
    "    qmc_prop = zeros(length(n))\n",
    "\n",
    "    for i in n\n",
    "\n",
    "        if cluster != \"base\"\n",
    "            mc_y = sort(sample[\"MC\"][\"value\"][i][findall(j -> j == cluster,sample[\"MC\"][\"cluster\"][version][i])])\n",
    "            qmc_y = sort(sample[\"QMC\"][\"value\"][i][findall(j -> j == cluster,sample[\"QMC\"][\"cluster\"][version][i])])\n",
    "\n",
    "            mc_pvalue[j] = pvalue(ApproximateTwoSampleKSTest(y, sample[\"MC\"][\"value\"][i][findall(j -> j == cluster,sample[\"MC\"][\"cluster\"][version][i])]))\n",
    "            qmc_pvalue[j] = pvalue(ApproximateTwoSampleKSTest(y, sample[\"QMC\"][\"value\"][i][findall(j -> j == cluster,sample[\"QMC\"][\"cluster\"][version][i])]))\n",
    "        else\n",
    "            mc_y = sort(sample[\"MC\"][\"value\"][i])\n",
    "            qmc_y = sort(sample[\"QMC\"][\"value\"][i])\n",
    "\n",
    "            mc_pvalue[j] = pvalue(ApproximateTwoSampleKSTest(y, sample[\"MC\"][\"value\"][i]))\n",
    "            qmc_pvalue[j] = pvalue(ApproximateTwoSampleKSTest(y, sample[\"QMC\"][\"value\"][i]))\n",
    "        end\n",
    "\n",
    "        mc_fy = zeros(length(mc_y))\n",
    "        qmc_fy = zeros(length(qmc_y))\n",
    "\n",
    "        for j in 1:length(mc_y)\n",
    "            mc_fy[j] = j/length(mc_y)\n",
    "        end\n",
    "\n",
    "        for j in 1:length(qmc_y)\n",
    "            qmc_fy[j] = j/length(qmc_y)\n",
    "        end\n",
    "\n",
    "        mc_p = plot!(mc_p, mc_y, mc_fy, label = \"n = $i\", legend = false)\n",
    "        qmc_p = plot!(qmc_p, qmc_y, qmc_fy,label = \"n = $i\", legend = false)\n",
    "       \n",
    "        if cluster != \"base\"\n",
    "            mc_prop[j] = sum(sample[\"MC\"][\"cluster\"][version][i] .== cluster) / i\n",
    "            qmc_prop[j] = sum(sample[\"QMC\"][\"cluster\"][version][i] .== cluster) / i\n",
    "        end\n",
    "\n",
    "        j += 1\n",
    "    end\n",
    "\n",
    "    pvalue_p = plot(n, mc_pvalue, label = \"MC\")\n",
    "               plot!(n, qmc_pvalue, label = \"QMC\", legend = :bottomright)\n",
    "               title!(\"KS Test: P-value\")\n",
    "\n",
    "    if cluster != \"base\"\n",
    "        prop_p = plot(n, mc_prop, label = \"MC\")\n",
    "                plot!(n, qmc_prop, label = \"QMC\", legend = :bottomright)\n",
    "                hline!(n, [prop_real], label = \"Real Prop.\", colour = \"black\")\n",
    "                title!(\"Proportion convergence\")\n",
    "        \n",
    "        return mc_p, qmc_p, pvalue_p, prop_p\n",
    "    else\n",
    "        return mc_p, qmc_p, pvalue_p, nothing\n",
    "    end\n",
    "end"
   ]
  },
  {
   "cell_type": "code",
   "execution_count": 3,
   "id": "1947bd40",
   "metadata": {},
   "outputs": [
    {
     "ename": "LoadError",
     "evalue": "AssertionError: File Databases/Database.xlsx not found.",
     "output_type": "error",
     "traceback": [
      "AssertionError: File Databases/Database.xlsx not found.",
      "",
      "Stacktrace:",
      " [1] openxlsx(f::XLSX.var\"#27#28\"{String}, filepath::String; mode::String, enable_cache::Bool)",
      "   @ XLSX C:\\Users\\User\\.julia\\packages\\XLSX\\E1Mu6\\src\\read.jl:128",
      " [2] readdata(filepath::String, sheetref::String)",
      "   @ XLSX C:\\Users\\User\\.julia\\packages\\XLSX\\E1Mu6\\src\\read.jl:512",
      " [3] top-level scope",
      "   @ In[3]:1",
      " [4] eval",
      "   @ .\\boot.jl:373 [inlined]",
      " [5] include_string(mapexpr::typeof(REPL.softscope), mod::Module, code::String, filename::String)",
      "   @ Base .\\loading.jl:1196"
     ]
    }
   ],
   "source": [
    "data_url = \"https://github.com/MichaelBarmann/ParamEst_MRE/blob/main/sample_data.csv\"\n",
    "my_file = CSV.File(HTTP.get(data_url).body; header = 1)\n",
    "\n",
    "base_v1 = XLSX.readdata(\"Databases/Database.xlsx\", \"Sheet1!B2:L1339\")\n",
    "base_v2 = CSV.read(\"Databases/contracts.csv\", DataFrame)\n",
    "dados = Matrix{Float64}(base_v1[:, [7, 10]])"
   ]
  },
  {
   "cell_type": "code",
   "execution_count": null,
   "id": "698cac68",
   "metadata": {},
   "outputs": [],
   "source": []
  }
 ],
 "metadata": {
  "kernelspec": {
   "display_name": "Julia 1.7.2",
   "language": "julia",
   "name": "julia-1.7"
  },
  "language_info": {
   "file_extension": ".jl",
   "mimetype": "application/julia",
   "name": "julia",
   "version": "1.7.2"
  }
 },
 "nbformat": 4,
 "nbformat_minor": 5
}
